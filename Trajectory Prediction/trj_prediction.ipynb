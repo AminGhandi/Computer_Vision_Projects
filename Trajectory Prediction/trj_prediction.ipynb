{
 "cells": [
  {
   "cell_type": "code",
   "execution_count": 1,
   "id": "f724888b",
   "metadata": {},
   "outputs": [],
   "source": [
    "import cv2\n",
    "import numpy as np\n",
    "\n"
   ]
  },
  {
   "cell_type": "markdown",
   "id": "60cd4089",
   "metadata": {},
   "source": [
    "# Detection"
   ]
  },
  {
   "cell_type": "code",
   "execution_count": 17,
   "id": "d5e7f9eb",
   "metadata": {},
   "outputs": [],
   "source": [
    "\n",
    "class OrangeDetector:\n",
    "    def __init__(self):\n",
    "        # Create mask for orange color\n",
    "        self.low_orange = np.array([11, 128, 90])\n",
    "        self.high_orange = np.array([179, 255, 255])\n",
    "\n",
    "    def detect(self, frame):\n",
    "        hsv_img = cv2.cvtColor(frame, cv2.COLOR_BGR2HSV)\n",
    "\n",
    "        # Create masks with color ranges\n",
    "        mask = cv2.inRange(hsv_img, self.low_orange, self.high_orange)\n",
    "\n",
    "        # Find Contours\n",
    "        contours, _ = cv2.findContours(mask, cv2.RETR_TREE, cv2.CHAIN_APPROX_SIMPLE)\n",
    "        contours = sorted(contours, key=lambda x: cv2.contourArea(x), reverse=True)\n",
    "\n",
    "        box = (0, 0, 0, 0)\n",
    "        for cnt in contours:\n",
    "            (x, y, w, h) = cv2.boundingRect(cnt)\n",
    "            box = (x, y, x + w, y + h)\n",
    "            break\n",
    "\n",
    "        return box"
   ]
  },
  {
   "cell_type": "markdown",
   "id": "462d8b6f",
   "metadata": {},
   "source": [
    "# KalmanFilter"
   ]
  },
  {
   "cell_type": "code",
   "execution_count": 18,
   "id": "67fb9354",
   "metadata": {},
   "outputs": [],
   "source": [
    "\n",
    "\n",
    "class KalmanFilter:\n",
    "    kf = cv2.KalmanFilter(4, 2)\n",
    "    kf.measurementMatrix = np.array([[1, 0, 0, 0], [0, 1, 0, 0]], np.float32)\n",
    "    kf.transitionMatrix = np.array([[1, 0, 1, 0], [0, 1, 0, 1], [0, 0, 1, 0], [0, 0, 0, 1]], np.float32)\n",
    "\n",
    "\n",
    "    def predict(self, coordX, coordY):\n",
    "        ''' This function estimates the position of the object'''\n",
    "        measured = np.array([[np.float32(coordX)], [np.float32(coordY)]])\n",
    "        self.kf.correct(measured)\n",
    "        predicted = self.kf.predict()\n",
    "        x, y = int(predicted[0]), int(predicted[1])\n",
    "        return x, y\n",
    "\n"
   ]
  },
  {
   "cell_type": "markdown",
   "id": "519fa348",
   "metadata": {},
   "source": [
    "# case"
   ]
  },
  {
   "cell_type": "code",
   "execution_count": 22,
   "id": "24228301",
   "metadata": {},
   "outputs": [],
   "source": [
    "\n",
    "video_capture = cv2.VideoCapture(\"orange.mp4\")\n",
    "\n",
    "# Load detector\n",
    "od = OrangeDetector()\n",
    "\n",
    "# Load Kalman filter to predict the trajectory\n",
    "kf = KalmanFilter()\n",
    "\n",
    "while True:\n",
    "    ret, frame = video_capture.read()\n",
    "    if ret is False:\n",
    "        break\n",
    "\n",
    "    orange_bbox = od.detect(frame)\n",
    "    x, y, x2, y2 = orange_bbox\n",
    "    cx = int((x + x2) / 2)\n",
    "    cy = int((y + y2) / 2)\n",
    "\n",
    "    predicted = kf.predict(cx, cy)\n",
    "    cv2.circle(frame, (cx, cy), 20, (0, 0, 255), 4)\n",
    "    cv2.circle(frame, (predicted[0], predicted[1]), 20, (255, 0, 0), 4)\n",
    "\n",
    "    cv2.imshow('Frame', frame)\n",
    "\n",
    "    if cv2.waitKey(1) == 27:\n",
    "        break\n",
    "\n",
    "video_capture.release()\n",
    "cv2.destroyAllWindows()\n"
   ]
  },
  {
   "cell_type": "code",
   "execution_count": null,
   "id": "ee747455",
   "metadata": {},
   "outputs": [],
   "source": []
  }
 ],
 "metadata": {
  "kernelspec": {
   "display_name": "Python 3 (ipykernel)",
   "language": "python",
   "name": "python3"
  },
  "language_info": {
   "codemirror_mode": {
    "name": "ipython",
    "version": 3
   },
   "file_extension": ".py",
   "mimetype": "text/x-python",
   "name": "python",
   "nbconvert_exporter": "python",
   "pygments_lexer": "ipython3",
   "version": "3.9.16"
  }
 },
 "nbformat": 4,
 "nbformat_minor": 5
}
