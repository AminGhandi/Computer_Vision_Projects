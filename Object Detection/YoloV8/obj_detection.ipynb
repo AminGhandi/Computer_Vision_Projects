{
  "nbformat": 4,
  "nbformat_minor": 0,
  "metadata": {
    "colab": {
      "provenance": []
    },
    "kernelspec": {
      "name": "python3",
      "display_name": "Python 3"
    },
    "language_info": {
      "name": "python"
    }
  },
  "cells": [
    {
      "cell_type": "code",
      "source": [
        "!pip install boto3"
      ],
      "metadata": {
        "id": "y7l21Upe8HOh"
      },
      "execution_count": null,
      "outputs": []
    },
    {
      "cell_type": "code",
      "execution_count": 2,
      "metadata": {
        "id": "W0apBhmcvl8O",
        "colab": {
          "base_uri": "https://localhost:8080/"
        },
        "outputId": "4d5ba4f7-bdaa-44f4-91f1-fd9de651107a"
      },
      "outputs": [
        {
          "output_type": "stream",
          "name": "stdout",
          "text": [
            "Installing collected packages: ultralytics\n",
            "Successfully installed ultralytics-8.0.157\n"
          ]
        }
      ],
      "source": [
        "!pip install ultralytics\n"
      ]
    },
    {
      "cell_type": "code",
      "source": [
        "# Download required meta-files\n",
        "\n",
        "#train\n",
        "!wget https://storage.googleapis.com/openimages/v6/oidv6-train-annotations-bbox.csv\n",
        "#val\n",
        "!wget https://storage.googleapis.com/openimages/v5/validation-annotations-bbox.csv\n",
        "#test\n",
        "!wget https://storage.googleapis.com/openimages/v5/test-annotations-bbox.csv\n",
        "\n"
      ],
      "metadata": {
        "id": "WMp-0rzx47ei"
      },
      "execution_count": null,
      "outputs": []
    },
    {
      "cell_type": "code",
      "source": [
        "!mkdir data_all\n",
        "!mkdir data\n",
        "!mkdir images\n",
        "!mkdir labels\n",
        "\n"
      ],
      "metadata": {
        "id": "aVqj_Hor43zn"
      },
      "execution_count": 4,
      "outputs": []
    },
    {
      "cell_type": "code",
      "source": [
        "!python /content/create_image_list_file.py"
      ],
      "metadata": {
        "colab": {
          "base_uri": "https://localhost:8080/"
        },
        "id": "uYZEag327THm",
        "outputId": "1b21e011-417f-4392-f569-d3286df3a981"
      },
      "execution_count": 5,
      "outputs": [
        {
          "output_type": "stream",
          "name": "stdout",
          "text": [
            "./oidv6-train-annotations-bbox.csv\n",
            "./validation-annotations-bbox.csv\n",
            "./test-annotations-bbox.csv\n"
          ]
        }
      ]
    },
    {
      "cell_type": "code",
      "source": [
        "!python downloader.py /content/image_list_file --download_folder='/content/data_all'\n"
      ],
      "metadata": {
        "colab": {
          "base_uri": "https://localhost:8080/"
        },
        "id": "jDdS8dTm7xu9",
        "outputId": "8d31866d-ced1-4114-a922-563e85b12c7e"
      },
      "execution_count": 6,
      "outputs": [
        {
          "output_type": "stream",
          "name": "stdout",
          "text": [
            "Downloading images: 100% 551/551 [00:15<00:00, 34.45it/s]\n"
          ]
        }
      ]
    },
    {
      "cell_type": "code",
      "source": [
        "!python /content/create_dataset_yolo_format.py"
      ],
      "metadata": {
        "colab": {
          "base_uri": "https://localhost:8080/"
        },
        "id": "oNiABq1S93Y3",
        "outputId": "79376a35-2d1b-49b3-eea0-1612b4efe56b"
      },
      "execution_count": 7,
      "outputs": [
        {
          "output_type": "stream",
          "name": "stdout",
          "text": [
            "./oidv6-train-annotations-bbox.csv\n",
            "./validation-annotations-bbox.csv\n",
            "./test-annotations-bbox.csv\n"
          ]
        }
      ]
    },
    {
      "cell_type": "code",
      "source": [
        "\n",
        "import os\n",
        "\n",
        "from ultralytics import YOLO\n",
        "\n",
        "\n",
        "# Load a model\n",
        "model = YOLO(\"yolov8n.yaml\")  # build a new model from scratch\n",
        "\n",
        "# Use the model\n",
        "results = model.train(data=os.path.join('/content', \"google_colab_config.yaml\"), epochs=5)  # train the model\n"
      ],
      "metadata": {
        "id": "XIarXYpA1xgz"
      },
      "execution_count": null,
      "outputs": []
    },
    {
      "cell_type": "code",
      "source": [
        "!python /content/predict_video.py"
      ],
      "metadata": {
        "id": "NtciMmby4o69"
      },
      "execution_count": null,
      "outputs": []
    },
    {
      "cell_type": "code",
      "source": [],
      "metadata": {
        "id": "pqzfJa3dIQeO"
      },
      "execution_count": null,
      "outputs": []
    }
  ]
}